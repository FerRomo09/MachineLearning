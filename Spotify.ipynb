{
 "cells": [
  {
   "cell_type": "code",
   "execution_count": 1,
   "id": "6d446bc7",
   "metadata": {},
   "outputs": [],
   "source": [
    "import pandas as pd\n",
    "import numpy\n",
    "from sklearn.tree import DecisionTreeClassifier\n",
    "from sklearn.model_selection import train_test_split\n",
    "from sklearn.metrics import accuracy_score\n",
    "#from sklearn.externals import joblib\n",
    "#from sklearn import tree\n",
    "import xgboost as xgb\n",
    "\n",
    "allData = pd.read_csv(\"SpotifyTop100.csv\") #Lee el csv\n",
    "\n",
    "allData.drop_duplicates(inplace = True) #Borra valores duplicados\n",
    "\n",
    "allData.dropna(inplace = True) #Borra los valores NaN\n",
    "\n",
    "otherDF = pd.DataFrame(allData['top genre'].unique()) #Genera un df para observar las diferentes posibilidades de\n",
    "#tipos de género\n",
    "otherDF.columns = [\"genre\"] #Renombramos la columna\n",
    "\n",
    "allData['top genre'].replace(otherDF['genre'].to_numpy(),otherDF.index.values,inplace = True) #Remplazamos los valores string del género y los cambiamos por números\n",
    "allData['artist type'].replace(['Solo','Duo','Trio','Band/Group'],[1,2,3,4],inplace = True) #Cambia los valores del tipo de artista por tipo int\n",
    "allData['pop'] = round(allData['pop']/10)\n",
    "allData['pop'].replace([0,1,2,3,4],0,inplace = True)\n",
    "allData['pop'].replace([5,6,7,8,9,10],1,inplace = True)\n"
   ]
  },
  {
   "cell_type": "code",
   "execution_count": 5,
   "id": "bc6cf103",
   "metadata": {},
   "outputs": [
    {
     "name": "stdout",
     "output_type": "stream",
     "text": [
      "     top genre  year released    bpm  nrgy  dnce   dB   val    dur  acous  \\\n",
      "0            0         2009.0  140.0  81.0  61.0 -6.0  23.0  203.0    0.0   \n",
      "1            0         2010.0  138.0  89.0  68.0 -4.0  83.0  192.0    1.0   \n",
      "2            1         2010.0   95.0  48.0  84.0 -7.0  96.0  243.0   20.0   \n",
      "3            2         2010.0   93.0  87.0  66.0 -4.0  38.0  180.0   11.0   \n",
      "4            2         2010.0  104.0  85.0  69.0 -6.0  74.0  268.0   39.0   \n",
      "..         ...            ...    ...   ...   ...  ...   ...    ...    ...   \n",
      "995         17         2018.0  155.0  73.0  83.0 -4.0  45.0  313.0    1.0   \n",
      "996         17         2019.0   80.0  50.0  55.0 -9.0  41.0  190.0   23.0   \n",
      "997         22         2019.0  103.0  77.0  89.0 -5.0  46.0  177.0    1.0   \n",
      "998        113         2019.0  138.0  58.0  53.0 -6.0  59.0  214.0    1.0   \n",
      "999          2         2019.0   98.0  59.0  80.0 -7.0  18.0  200.0    2.0   \n",
      "\n",
      "     spch  top year  artist type  \n",
      "0     6.0    2010.0            2  \n",
      "1     8.0    2010.0            2  \n",
      "2     3.0    2010.0            1  \n",
      "3    12.0    2010.0            1  \n",
      "4     5.0    2010.0            1  \n",
      "..    ...       ...          ...  \n",
      "995  22.0    2019.0            1  \n",
      "996   7.0    2019.0            1  \n",
      "997   7.0    2019.0            1  \n",
      "998  10.0    2019.0            2  \n",
      "999  15.0    2019.0            1  \n",
      "\n",
      "[1000 rows x 12 columns]\n"
     ]
    },
    {
     "data": {
      "text/plain": [
       "\"\\njoblib.dump(model, 'popularidad.joblib') #Genera un archivo que guarda el modelo\\n\\n\\ntree.export_graphviz(model, out_file = 'popularidad_tree.dot',\\n                    feature_names = X_train.columns,\\n                    class_names = ) #Exporta el modelo a un gráfico graphviz [INCOMPLETO]\\n\\nmodel = joblib.load('popularidad.joblib') #Carga el modelo desde el archivo\\n\\n\""
      ]
     },
     "execution_count": 5,
     "metadata": {},
     "output_type": "execute_result"
    }
   ],
   "source": [
    "\n",
    "X = allData.drop(columns = ['pop','title','artist','added','live']) #Generamos nuestro df input para obtener si una canción será popular\n",
    "y = allData['pop'] #Generamos un df output para entrenar al modelo\n",
    "\n",
    "\n",
    "\n",
    "X_train, X_test, y_train, y_test = train_test_split(X, y, test_size = 0.2) #Separa el dataset en 80% training y 20% test\n",
    "\n",
    "print(X)\n",
    "\n",
    "#model = DecisionTreeClassifier()\n",
    "#model.fit(X_train, y_train) #Entrenas al modelo\n",
    "\n",
    "\"\"\"\n",
    "joblib.dump(model, 'popularidad.joblib') #Genera un archivo que guarda el modelo\n",
    "\n",
    "\n",
    "tree.export_graphviz(model, out_file = 'popularidad_tree.dot',\n",
    "                    feature_names = X_train.columns,\n",
    "                    class_names = ) #Exporta el modelo a un gráfico graphviz [INCOMPLETO]\n",
    "\n",
    "model = joblib.load('popularidad.joblib') #Carga el modelo desde el archivo\n",
    "\n",
    "\"\"\"\n",
    "\n"
   ]
  },
  {
   "cell_type": "code",
   "execution_count": 38,
   "id": "9e85c77a",
   "metadata": {},
   "outputs": [
    {
     "name": "stdout",
     "output_type": "stream",
     "text": [
      "Score training: 100.0%\n",
      "Score Validation: 99.0%\n"
     ]
    }
   ],
   "source": [
    "predictions = model.predict(X_test) #Haces predicciones con el df de validación\n",
    "predictions_training = model.predict(X_train)\n",
    "score_training = accuracy_score(y_train, predictions_training)\n",
    "score = accuracy_score(y_test, predictions) #Mides el accuracy de tu modelo\n",
    "print(f\"Score training: {score_training*100}%\\nScore Validation: {score*100}%\")"
   ]
  },
  {
   "cell_type": "code",
   "execution_count": 2,
   "id": "0268b448",
   "metadata": {},
   "outputs": [
    {
     "ename": "NameError",
     "evalue": "name 'X' is not defined",
     "output_type": "error",
     "traceback": [
      "\u001b[0;31m---------------------------------------------------------------------------\u001b[0m",
      "\u001b[0;31mNameError\u001b[0m                                 Traceback (most recent call last)",
      "\u001b[0;32m/var/folders/vt/sb7354610c9c85znvk8qs0340000gq/T/ipykernel_13331/3777217377.py\u001b[0m in \u001b[0;36m<module>\u001b[0;34m\u001b[0m\n\u001b[0;32m----> 1\u001b[0;31m \u001b[0mX\u001b[0m\u001b[0;34m\u001b[0m\u001b[0;34m\u001b[0m\u001b[0m\n\u001b[0m",
      "\u001b[0;31mNameError\u001b[0m: name 'X' is not defined"
     ]
    }
   ],
   "source": []
  }
 ],
 "metadata": {
  "kernelspec": {
   "display_name": "Python 3",
   "language": "python",
   "name": "python3"
  },
  "language_info": {
   "codemirror_mode": {
    "name": "ipython",
    "version": 3
   },
   "file_extension": ".py",
   "mimetype": "text/x-python",
   "name": "python",
   "nbconvert_exporter": "python",
   "pygments_lexer": "ipython3",
   "version": "3.8.8"
  }
 },
 "nbformat": 4,
 "nbformat_minor": 5
}
